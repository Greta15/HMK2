{
  "nbformat": 4,
  "nbformat_minor": 0,
  "metadata": {
    "colab": {
      "name": "HW2.ipynb",
      "provenance": [],
      "collapsed_sections": []
    },
    "kernelspec": {
      "name": "python3",
      "display_name": "Python 3"
    }
  },
  "cells": [
    {
      "cell_type": "code",
      "metadata": {
        "id": "zcEmOnbVJSp-",
        "colab_type": "code",
        "colab": {
          "base_uri": "https://localhost:8080/",
          "height": 476
        },
        "outputId": "8ca1ebbc-bb21-4878-b6c3-207718e5b23e"
      },
      "source": [
        "import time\n",
        "import requests\n",
        "import numpy as np\n",
        "import pandas as pd\n",
        "import re\n",
        "!pip install scrapy\n",
        "from scrapy.http import TextResponse\n"
      ],
      "execution_count": 34,
      "outputs": [
        {
          "output_type": "stream",
          "text": [
            "Requirement already satisfied: scrapy in /usr/local/lib/python3.6/dist-packages (2.2.0)\n",
            "Requirement already satisfied: PyDispatcher>=2.0.5 in /usr/local/lib/python3.6/dist-packages (from scrapy) (2.0.5)\n",
            "Requirement already satisfied: pyOpenSSL>=16.2.0 in /usr/local/lib/python3.6/dist-packages (from scrapy) (19.1.0)\n",
            "Requirement already satisfied: parsel>=1.5.0 in /usr/local/lib/python3.6/dist-packages (from scrapy) (1.6.0)\n",
            "Requirement already satisfied: Twisted>=17.9.0 in /usr/local/lib/python3.6/dist-packages (from scrapy) (20.3.0)\n",
            "Requirement already satisfied: cryptography>=2.0 in /usr/local/lib/python3.6/dist-packages (from scrapy) (2.9.2)\n",
            "Requirement already satisfied: queuelib>=1.4.2 in /usr/local/lib/python3.6/dist-packages (from scrapy) (1.5.0)\n",
            "Requirement already satisfied: lxml>=3.5.0 in /usr/local/lib/python3.6/dist-packages (from scrapy) (4.2.6)\n",
            "Requirement already satisfied: cssselect>=0.9.1 in /usr/local/lib/python3.6/dist-packages (from scrapy) (1.1.0)\n",
            "Requirement already satisfied: itemadapter>=0.1.0 in /usr/local/lib/python3.6/dist-packages (from scrapy) (0.1.0)\n",
            "Requirement already satisfied: service-identity>=16.0.0 in /usr/local/lib/python3.6/dist-packages (from scrapy) (18.1.0)\n",
            "Requirement already satisfied: w3lib>=1.17.0 in /usr/local/lib/python3.6/dist-packages (from scrapy) (1.22.0)\n",
            "Requirement already satisfied: zope.interface>=4.1.3 in /usr/local/lib/python3.6/dist-packages (from scrapy) (5.1.0)\n",
            "Requirement already satisfied: protego>=0.1.15 in /usr/local/lib/python3.6/dist-packages (from scrapy) (0.1.16)\n",
            "Requirement already satisfied: six>=1.5.2 in /usr/local/lib/python3.6/dist-packages (from pyOpenSSL>=16.2.0->scrapy) (1.12.0)\n",
            "Requirement already satisfied: constantly>=15.1 in /usr/local/lib/python3.6/dist-packages (from Twisted>=17.9.0->scrapy) (15.1.0)\n",
            "Requirement already satisfied: incremental>=16.10.1 in /usr/local/lib/python3.6/dist-packages (from Twisted>=17.9.0->scrapy) (17.5.0)\n",
            "Requirement already satisfied: attrs>=19.2.0 in /usr/local/lib/python3.6/dist-packages (from Twisted>=17.9.0->scrapy) (19.3.0)\n",
            "Requirement already satisfied: Automat>=0.3.0 in /usr/local/lib/python3.6/dist-packages (from Twisted>=17.9.0->scrapy) (20.2.0)\n",
            "Requirement already satisfied: PyHamcrest!=1.10.0,>=1.9.0 in /usr/local/lib/python3.6/dist-packages (from Twisted>=17.9.0->scrapy) (2.0.2)\n",
            "Requirement already satisfied: hyperlink>=17.1.1 in /usr/local/lib/python3.6/dist-packages (from Twisted>=17.9.0->scrapy) (19.0.0)\n",
            "Requirement already satisfied: cffi!=1.11.3,>=1.8 in /usr/local/lib/python3.6/dist-packages (from cryptography>=2.0->scrapy) (1.14.0)\n",
            "Requirement already satisfied: pyasn1 in /usr/local/lib/python3.6/dist-packages (from service-identity>=16.0.0->scrapy) (0.4.8)\n",
            "Requirement already satisfied: pyasn1-modules in /usr/local/lib/python3.6/dist-packages (from service-identity>=16.0.0->scrapy) (0.2.8)\n",
            "Requirement already satisfied: setuptools in /usr/local/lib/python3.6/dist-packages (from zope.interface>=4.1.3->scrapy) (47.3.1)\n",
            "Requirement already satisfied: idna>=2.5 in /usr/local/lib/python3.6/dist-packages (from hyperlink>=17.1.1->Twisted>=17.9.0->scrapy) (2.9)\n",
            "Requirement already satisfied: pycparser in /usr/local/lib/python3.6/dist-packages (from cffi!=1.11.3,>=1.8->cryptography>=2.0->scrapy) (2.20)\n"
          ],
          "name": "stdout"
        }
      ]
    },
    {
      "cell_type": "markdown",
      "metadata": {
        "id": "qi9QTHBsJhuh",
        "colab_type": "text"
      },
      "source": [
        "\n",
        "# ***Problem 1(Scraping quotes)***"
      ]
    },
    {
      "cell_type": "code",
      "metadata": {
        "id": "JAtYtJ9EJpdX",
        "colab_type": "code",
        "colab": {}
      },
      "source": [
        "URL=\"http://quotes.toscrape.com/\""
      ],
      "execution_count": 35,
      "outputs": []
    },
    {
      "cell_type": "code",
      "metadata": {
        "id": "fQaiFHr7JuHO",
        "colab_type": "code",
        "colab": {}
      },
      "source": [
        "page=requests.get(URL)"
      ],
      "execution_count": 36,
      "outputs": []
    },
    {
      "cell_type": "code",
      "metadata": {
        "id": "odVOSkcrJxie",
        "colab_type": "code",
        "colab": {
          "base_uri": "https://localhost:8080/",
          "height": 34
        },
        "outputId": "47f8e217-2841-4404-8c99-0496f0501ce1"
      },
      "source": [
        "type(page)"
      ],
      "execution_count": 37,
      "outputs": [
        {
          "output_type": "execute_result",
          "data": {
            "text/plain": [
              "requests.models.Response"
            ]
          },
          "metadata": {
            "tags": []
          },
          "execution_count": 37
        }
      ]
    },
    {
      "cell_type": "code",
      "metadata": {
        "id": "PvO3svd7J0kl",
        "colab_type": "code",
        "colab": {
          "base_uri": "https://localhost:8080/",
          "height": 34
        },
        "outputId": "3c51b814-4855-4f70-e114-744169b07928"
      },
      "source": [
        "page.url"
      ],
      "execution_count": 38,
      "outputs": [
        {
          "output_type": "execute_result",
          "data": {
            "text/plain": [
              "'http://quotes.toscrape.com/'"
            ]
          },
          "metadata": {
            "tags": []
          },
          "execution_count": 38
        }
      ]
    },
    {
      "cell_type": "code",
      "metadata": {
        "id": "wJzsUvcpJ4T9",
        "colab_type": "code",
        "colab": {}
      },
      "source": [
        "response= TextResponse(body=page.text,url=URL,encoding=\"utf-8\")"
      ],
      "execution_count": 39,
      "outputs": []
    },
    {
      "cell_type": "code",
      "metadata": {
        "id": "RQA-KxfkJ74d",
        "colab_type": "code",
        "colab": {}
      },
      "source": [
        "def request(url):\n",
        "    page = requests.get(url)\n",
        "    response = TextResponse(body=page.text,url=url,encoding=\"utf-8\")\n",
        "    return response"
      ],
      "execution_count": 40,
      "outputs": []
    },
    {
      "cell_type": "code",
      "metadata": {
        "id": "zjUqDTVVKGI0",
        "colab_type": "code",
        "colab": {}
      },
      "source": [
        "def quote_scraper(response):\n",
        "    page = requests.get(url)\n",
        "    response= TextResponse(body=page.text,url=url,encoding=\"utf-8\")\n",
        "    author = response.css(\"small.author::text\").extract()\n",
        "    quotes = response.css(\"div.quote > span.text::text\").extract()\n",
        "    div_tags =response.css(\"div.tags \")\n",
        "    tags = [i.css(\"a.tag::text\").extract() for i in response.css(\"div.tags\")]\n",
        "    base_url=\"http://quotes.toscrape.com/\"\n",
        "    rel_hyperlinks=response.css(\"small.author~a::attr(href)\").extract()\n",
        "    hyperlink=[base_url+i for i in rel_hyperlinks]\n",
        "    return pd.DataFrame({\"quotes\":quotes,\"author\":author,\"tags\":tags,\"author_page\":hyperlink})"
      ],
      "execution_count": 41,
      "outputs": []
    },
    {
      "cell_type": "code",
      "metadata": {
        "id": "Kv9xHEmqKIvq",
        "colab_type": "code",
        "colab": {}
      },
      "source": [
        "quotes = []\n",
        "url = \"http://quotes.toscrape.com/\" \n",
        "while True:\n",
        "    response =request(url)\n",
        "    quotes.append(quote_scraper(response))\n",
        "    url_for_next_page = response.css(\"li.next > a::attr(href)\").extract_first()\n",
        "    if url_for_next_page:\n",
        "        url = response.urljoin(url_for_next_page)\n",
        "    else:\n",
        "        break"
      ],
      "execution_count": 42,
      "outputs": []
    },
    {
      "cell_type": "code",
      "metadata": {
        "id": "jg0IjUb0KPWG",
        "colab_type": "code",
        "colab": {
          "base_uri": "https://localhost:8080/",
          "height": 419
        },
        "outputId": "6205495a-0f4b-44e2-dc02-a77d75a480eb"
      },
      "source": [
        "quotes = pd.concat(quotes)\n",
        "quotes"
      ],
      "execution_count": 43,
      "outputs": [
        {
          "output_type": "execute_result",
          "data": {
            "text/html": [
              "<div>\n",
              "<style scoped>\n",
              "    .dataframe tbody tr th:only-of-type {\n",
              "        vertical-align: middle;\n",
              "    }\n",
              "\n",
              "    .dataframe tbody tr th {\n",
              "        vertical-align: top;\n",
              "    }\n",
              "\n",
              "    .dataframe thead th {\n",
              "        text-align: right;\n",
              "    }\n",
              "</style>\n",
              "<table border=\"1\" class=\"dataframe\">\n",
              "  <thead>\n",
              "    <tr style=\"text-align: right;\">\n",
              "      <th></th>\n",
              "      <th>quotes</th>\n",
              "      <th>author</th>\n",
              "      <th>tags</th>\n",
              "      <th>author_page</th>\n",
              "    </tr>\n",
              "  </thead>\n",
              "  <tbody>\n",
              "    <tr>\n",
              "      <th>0</th>\n",
              "      <td>“The world as we have created it is a process ...</td>\n",
              "      <td>Albert Einstein</td>\n",
              "      <td>[change, deep-thoughts, thinking, world]</td>\n",
              "      <td>http://quotes.toscrape.com//author/Albert-Eins...</td>\n",
              "    </tr>\n",
              "    <tr>\n",
              "      <th>1</th>\n",
              "      <td>“It is our choices, Harry, that show what we t...</td>\n",
              "      <td>J.K. Rowling</td>\n",
              "      <td>[abilities, choices]</td>\n",
              "      <td>http://quotes.toscrape.com//author/J-K-Rowling</td>\n",
              "    </tr>\n",
              "    <tr>\n",
              "      <th>2</th>\n",
              "      <td>“There are only two ways to live your life. On...</td>\n",
              "      <td>Albert Einstein</td>\n",
              "      <td>[inspirational, life, live, miracle, miracles]</td>\n",
              "      <td>http://quotes.toscrape.com//author/Albert-Eins...</td>\n",
              "    </tr>\n",
              "    <tr>\n",
              "      <th>3</th>\n",
              "      <td>“The person, be it gentleman or lady, who has ...</td>\n",
              "      <td>Jane Austen</td>\n",
              "      <td>[aliteracy, books, classic, humor]</td>\n",
              "      <td>http://quotes.toscrape.com//author/Jane-Austen</td>\n",
              "    </tr>\n",
              "    <tr>\n",
              "      <th>4</th>\n",
              "      <td>“Imperfection is beauty, madness is genius and...</td>\n",
              "      <td>Marilyn Monroe</td>\n",
              "      <td>[be-yourself, inspirational]</td>\n",
              "      <td>http://quotes.toscrape.com//author/Marilyn-Monroe</td>\n",
              "    </tr>\n",
              "    <tr>\n",
              "      <th>...</th>\n",
              "      <td>...</td>\n",
              "      <td>...</td>\n",
              "      <td>...</td>\n",
              "      <td>...</td>\n",
              "    </tr>\n",
              "    <tr>\n",
              "      <th>5</th>\n",
              "      <td>“You never really understand a person until yo...</td>\n",
              "      <td>Harper Lee</td>\n",
              "      <td>[better-life-empathy]</td>\n",
              "      <td>http://quotes.toscrape.com//author/Harper-Lee</td>\n",
              "    </tr>\n",
              "    <tr>\n",
              "      <th>6</th>\n",
              "      <td>“You have to write the book that wants to be w...</td>\n",
              "      <td>Madeleine L'Engle</td>\n",
              "      <td>[books, children, difficult, grown-ups, write,...</td>\n",
              "      <td>http://quotes.toscrape.com//author/Madeleine-L...</td>\n",
              "    </tr>\n",
              "    <tr>\n",
              "      <th>7</th>\n",
              "      <td>“Never tell the truth to people who are not wo...</td>\n",
              "      <td>Mark Twain</td>\n",
              "      <td>[truth]</td>\n",
              "      <td>http://quotes.toscrape.com//author/Mark-Twain</td>\n",
              "    </tr>\n",
              "    <tr>\n",
              "      <th>8</th>\n",
              "      <td>“A person's a person, no matter how small.”</td>\n",
              "      <td>Dr. Seuss</td>\n",
              "      <td>[inspirational]</td>\n",
              "      <td>http://quotes.toscrape.com//author/Dr-Seuss</td>\n",
              "    </tr>\n",
              "    <tr>\n",
              "      <th>9</th>\n",
              "      <td>“... a mind needs books as a sword needs a whe...</td>\n",
              "      <td>George R.R. Martin</td>\n",
              "      <td>[books, mind]</td>\n",
              "      <td>http://quotes.toscrape.com//author/George-R-R-...</td>\n",
              "    </tr>\n",
              "  </tbody>\n",
              "</table>\n",
              "<p>100 rows × 4 columns</p>\n",
              "</div>"
            ],
            "text/plain": [
              "                                               quotes  ...                                        author_page\n",
              "0   “The world as we have created it is a process ...  ...  http://quotes.toscrape.com//author/Albert-Eins...\n",
              "1   “It is our choices, Harry, that show what we t...  ...     http://quotes.toscrape.com//author/J-K-Rowling\n",
              "2   “There are only two ways to live your life. On...  ...  http://quotes.toscrape.com//author/Albert-Eins...\n",
              "3   “The person, be it gentleman or lady, who has ...  ...     http://quotes.toscrape.com//author/Jane-Austen\n",
              "4   “Imperfection is beauty, madness is genius and...  ...  http://quotes.toscrape.com//author/Marilyn-Monroe\n",
              "..                                                ...  ...                                                ...\n",
              "5   “You never really understand a person until yo...  ...      http://quotes.toscrape.com//author/Harper-Lee\n",
              "6   “You have to write the book that wants to be w...  ...  http://quotes.toscrape.com//author/Madeleine-L...\n",
              "7   “Never tell the truth to people who are not wo...  ...      http://quotes.toscrape.com//author/Mark-Twain\n",
              "8         “A person's a person, no matter how small.”  ...        http://quotes.toscrape.com//author/Dr-Seuss\n",
              "9   “... a mind needs books as a sword needs a whe...  ...  http://quotes.toscrape.com//author/George-R-R-...\n",
              "\n",
              "[100 rows x 4 columns]"
            ]
          },
          "metadata": {
            "tags": []
          },
          "execution_count": 43
        }
      ]
    },
    {
      "cell_type": "markdown",
      "metadata": {
        "id": "TCrRHuviKT3U",
        "colab_type": "text"
      },
      "source": [
        "# ***Problem 2(Scraping movies)***"
      ]
    },
    {
      "cell_type": "code",
      "metadata": {
        "id": "2BDDRsx_KZE_",
        "colab_type": "code",
        "colab": {}
      },
      "source": [
        "URL=\"https://www.imdb.com/chart/moviemeter\""
      ],
      "execution_count": 44,
      "outputs": []
    },
    {
      "cell_type": "code",
      "metadata": {
        "id": "uYzJdm1ZKpe3",
        "colab_type": "code",
        "colab": {}
      },
      "source": [
        "page=requests.get(URL)"
      ],
      "execution_count": 45,
      "outputs": []
    },
    {
      "cell_type": "code",
      "metadata": {
        "id": "H-4T3iKWKq9_",
        "colab_type": "code",
        "colab": {}
      },
      "source": [
        "response= TextResponse(body=page.text,url=URL,encoding=\"utf-8\")"
      ],
      "execution_count": 46,
      "outputs": []
    },
    {
      "cell_type": "code",
      "metadata": {
        "id": "hrUJ_nFVKtJN",
        "colab_type": "code",
        "colab": {
          "base_uri": "https://localhost:8080/",
          "height": 1000
        },
        "outputId": "c287f4dd-276f-4a8c-c188-bbbe172a8c75"
      },
      "source": [
        "response.css(\"td>span.secondaryInfo::text\").extract()"
      ],
      "execution_count": 47,
      "outputs": [
        {
          "output_type": "execute_result",
          "data": {
            "text/plain": [
              "['(2020)',\n",
              " '(2020)',\n",
              " '(2020)',\n",
              " '(2020)',\n",
              " '(2019)',\n",
              " '(2020)',\n",
              " '(2020)',\n",
              " '(2020)',\n",
              " '(2019)',\n",
              " '(2019)',\n",
              " '(2020)',\n",
              " '(2019)',\n",
              " '(2020)',\n",
              " '(2019)',\n",
              " '(2019)',\n",
              " '(2019)',\n",
              " '(2020)',\n",
              " '(2019)',\n",
              " '(2020)',\n",
              " '(2020)',\n",
              " '(2019)',\n",
              " '(2019)',\n",
              " '(2020)',\n",
              " '(2019)',\n",
              " '(2019)',\n",
              " '(2020)',\n",
              " '(2013)',\n",
              " '(2019)',\n",
              " '(2019)',\n",
              " '(2020)',\n",
              " '(2020)',\n",
              " '(2019)',\n",
              " '(2020)',\n",
              " '(1994)',\n",
              " '(1979)',\n",
              " '(2019)',\n",
              " '(2013)',\n",
              " '(2020)',\n",
              " '(2020)',\n",
              " '(1995)',\n",
              " '(2001)',\n",
              " '(2018)',\n",
              " '(2011)',\n",
              " '(2019)',\n",
              " '(2020)',\n",
              " '(2018)',\n",
              " '(2010)',\n",
              " '(2019)',\n",
              " '(2019)',\n",
              " '(2020)',\n",
              " '(2019)',\n",
              " '(2014)',\n",
              " '(2019)',\n",
              " '(1972)',\n",
              " '(2019)',\n",
              " '(1991)',\n",
              " '(2020)',\n",
              " '(1939)',\n",
              " '(2020)',\n",
              " '(2001)',\n",
              " '(2020)',\n",
              " '(1985)',\n",
              " '(2020)',\n",
              " '(2007)',\n",
              " '(2014)',\n",
              " '(2008)',\n",
              " '(2010)',\n",
              " '(2021)',\n",
              " '(2018)',\n",
              " '(2005)',\n",
              " '(2019)',\n",
              " '(2020)',\n",
              " '(2021)',\n",
              " '(2019)',\n",
              " '(1994)',\n",
              " '(2020)',\n",
              " '(2012)',\n",
              " '(2020)',\n",
              " '(1996)',\n",
              " '(2017)',\n",
              " '(2019)',\n",
              " '(2019)',\n",
              " '(2020)',\n",
              " '(2019)',\n",
              " '(2019)',\n",
              " '(1999)',\n",
              " '(2020)',\n",
              " '(2019)',\n",
              " '(1997)',\n",
              " '(2019)',\n",
              " '(2020)',\n",
              " '(2019)',\n",
              " '(2016)',\n",
              " '(2020)',\n",
              " '(2009)',\n",
              " '(2019)',\n",
              " '(2020)',\n",
              " '(2003)',\n",
              " '(2020)',\n",
              " '(2020)']"
            ]
          },
          "metadata": {
            "tags": []
          },
          "execution_count": 47
        }
      ]
    },
    {
      "cell_type": "code",
      "metadata": {
        "id": "1U7dupNFKwIP",
        "colab_type": "code",
        "colab": {
          "base_uri": "https://localhost:8080/",
          "height": 1000
        },
        "outputId": "faaf68ca-e51d-423b-84e0-f289c51677cd"
      },
      "source": [
        "response.css(\"td.titleColumn > a::text\").extract()"
      ],
      "execution_count": 48,
      "outputs": [
        {
          "output_type": "execute_result",
          "data": {
            "text/plain": [
              "['365 Days',\n",
              " 'Da 5 Bloods',\n",
              " 'Artemis Fowl',\n",
              " 'The King of Staten Island',\n",
              " 'Knives Out',\n",
              " 'You Should Have Left',\n",
              " 'Palm Springs',\n",
              " 'Tenet',\n",
              " 'Uncut Gems',\n",
              " 'Parasite',\n",
              " 'The Last Days of American Crime',\n",
              " 'Once Upon a Time... in Hollywood',\n",
              " 'The Hunt',\n",
              " 'Joker',\n",
              " 'The Gentlemen',\n",
              " 'Just Mercy',\n",
              " 'Dune',\n",
              " '7500',\n",
              " 'Bill & Ted Face the Music',\n",
              " 'Gulabo Sitabo',\n",
              " 'Avengers: Endgame',\n",
              " 'The Personal History of David Copperfield',\n",
              " 'The Invisible Man',\n",
              " '1917',\n",
              " 'The Vast of Night',\n",
              " 'Infamous',\n",
              " 'Snowpiercer',\n",
              " 'Ad Astra',\n",
              " 'Midsommar',\n",
              " 'Eurovision Song Contest: The Story of Fire Saga',\n",
              " 'Becky',\n",
              " 'Dads',\n",
              " 'The Wrong Missy',\n",
              " 'The Shawshank Redemption',\n",
              " 'Alien',\n",
              " 'Chhichhore',\n",
              " 'The Wolf of Wall Street',\n",
              " 'The Night Clerk',\n",
              " 'No Time to Die',\n",
              " 'Clueless',\n",
              " 'The Lord of the Rings: The Fellowship of the Ring',\n",
              " 'Hereditary',\n",
              " 'The Help',\n",
              " 'Jojo Rabbit',\n",
              " 'Extraction',\n",
              " 'BlacKkKlansman',\n",
              " 'Inception',\n",
              " 'Rocketman',\n",
              " 'Star Wars: The Rise Of Skywalker',\n",
              " 'Birds of Prey: And the Fantabulous Emancipation of One Harley Quinn',\n",
              " 'Little Women',\n",
              " 'The Guest',\n",
              " 'Wasp Network',\n",
              " 'The Godfather',\n",
              " 'Ready or Not',\n",
              " 'The Silence of the Lambs',\n",
              " 'Feel the Beat',\n",
              " 'Gone with the Wind',\n",
              " 'Mulan',\n",
              " \"Harry Potter and the Sorcerer's Stone\",\n",
              " 'Bad Boys For Life',\n",
              " 'Back to the Future',\n",
              " 'Wonder Woman 1984',\n",
              " 'Into the Wild',\n",
              " 'Interstellar',\n",
              " 'The Dark Knight',\n",
              " 'The Last Airbender',\n",
              " \"Zack Snyder's Justice League\",\n",
              " 'Black Panther',\n",
              " 'V for Vendetta',\n",
              " 'Gemini Man',\n",
              " 'Shirley',\n",
              " 'The Batman',\n",
              " 'The Good Liar',\n",
              " 'Pulp Fiction',\n",
              " 'Peninsula',\n",
              " 'Django Unchained',\n",
              " 'Candyman',\n",
              " 'Twister',\n",
              " 'Lady Bird',\n",
              " 'Babyteeth',\n",
              " 'Jumanji: The Next Level',\n",
              " 'Top Gun: Maverick',\n",
              " 'Maleficent: Mistress of Evil',\n",
              " 'The Lodge',\n",
              " 'The Matrix',\n",
              " 'Penguin',\n",
              " 'The Lighthouse',\n",
              " 'The Fifth Element',\n",
              " 'The Platform',\n",
              " 'Greyhound',\n",
              " 'Ford v Ferrari',\n",
              " 'Rogue One: A Star Wars Story',\n",
              " 'Scoob!',\n",
              " 'Inglourious Basterds',\n",
              " 'The Rising Hawk',\n",
              " 'Bloodshot',\n",
              " 'The Room',\n",
              " 'Emma.',\n",
              " 'Onward']"
            ]
          },
          "metadata": {
            "tags": []
          },
          "execution_count": 48
        }
      ]
    },
    {
      "cell_type": "code",
      "metadata": {
        "id": "IR1RIqh3KzOp",
        "colab_type": "code",
        "colab": {
          "base_uri": "https://localhost:8080/",
          "height": 419
        },
        "outputId": "1e2de44e-c1b1-4f7b-d846-5cd28afef3d9"
      },
      "source": [
        "def scraping_movies(url):\n",
        "    page = requests.get(url)\n",
        "    response = TextResponse(body=page.text,url=url,encoding=\"utf-8\")\n",
        "    year_of_release = response.css(\"td >span.secondaryInfo::text\").extract()\n",
        "    year = [i.replace(\"(\" , \"\").replace(\")\" , \"\") for i in year_of_release]\n",
        "    movie_title = response.css(\"td.titleColumn > a ::text\").extract()\n",
        "    rate = response.css(\"td.ratingColumn.imdbRating\")\n",
        "    imdb_rate = [i.css('strong::text').extract_first() for i in response.css(\"td.ratingColumn.imdbRating\")]\n",
        "    movie_link = response.css(\"td.titleColumn ::attr(href)\").extract()\n",
        "    base_url=\"https://www.imdb.com/chart/moviemeter/\"\n",
        "    hyperlink = 'https://www.imdb.com/'\n",
        "    movie_hyperlink = [hyperlink+i for i in movie_link]\n",
        "    div_rank = response.css(\"div.velocity\")\n",
        "    rank= [i.css(\"::text\").extract_first() for i in div_rank]  \n",
        "    return pd.DataFrame({\"movie_title\":movie_title,  \"year\":year, \"imdb_rate\":imdb_rate, \"movie_hyperlink\": movie_hyperlink , 'rank':rank,})\n",
        "imdbmovies =scraping_movies(url = \"https://www.imdb.com/chart/moviemeter/\")\n",
        "imdbmovies"
      ],
      "execution_count": 49,
      "outputs": [
        {
          "output_type": "execute_result",
          "data": {
            "text/html": [
              "<div>\n",
              "<style scoped>\n",
              "    .dataframe tbody tr th:only-of-type {\n",
              "        vertical-align: middle;\n",
              "    }\n",
              "\n",
              "    .dataframe tbody tr th {\n",
              "        vertical-align: top;\n",
              "    }\n",
              "\n",
              "    .dataframe thead th {\n",
              "        text-align: right;\n",
              "    }\n",
              "</style>\n",
              "<table border=\"1\" class=\"dataframe\">\n",
              "  <thead>\n",
              "    <tr style=\"text-align: right;\">\n",
              "      <th></th>\n",
              "      <th>movie_title</th>\n",
              "      <th>year</th>\n",
              "      <th>imdb_rate</th>\n",
              "      <th>movie_hyperlink</th>\n",
              "      <th>rank</th>\n",
              "    </tr>\n",
              "  </thead>\n",
              "  <tbody>\n",
              "    <tr>\n",
              "      <th>0</th>\n",
              "      <td>365 Days</td>\n",
              "      <td>2020</td>\n",
              "      <td>3.5</td>\n",
              "      <td>https://www.imdb.com//title/tt10886166/</td>\n",
              "      <td>1\\n(no change)\\n</td>\n",
              "    </tr>\n",
              "    <tr>\n",
              "      <th>1</th>\n",
              "      <td>Da 5 Bloods</td>\n",
              "      <td>2020</td>\n",
              "      <td>6.7</td>\n",
              "      <td>https://www.imdb.com//title/tt9777644/</td>\n",
              "      <td>2\\n</td>\n",
              "    </tr>\n",
              "    <tr>\n",
              "      <th>2</th>\n",
              "      <td>Artemis Fowl</td>\n",
              "      <td>2020</td>\n",
              "      <td>4.1</td>\n",
              "      <td>https://www.imdb.com//title/tt3089630/</td>\n",
              "      <td>3\\n</td>\n",
              "    </tr>\n",
              "    <tr>\n",
              "      <th>3</th>\n",
              "      <td>The King of Staten Island</td>\n",
              "      <td>2020</td>\n",
              "      <td>7.2</td>\n",
              "      <td>https://www.imdb.com//title/tt9686708/</td>\n",
              "      <td>4\\n</td>\n",
              "    </tr>\n",
              "    <tr>\n",
              "      <th>4</th>\n",
              "      <td>Knives Out</td>\n",
              "      <td>2019</td>\n",
              "      <td>7.9</td>\n",
              "      <td>https://www.imdb.com//title/tt8946378/</td>\n",
              "      <td>5\\n</td>\n",
              "    </tr>\n",
              "    <tr>\n",
              "      <th>...</th>\n",
              "      <td>...</td>\n",
              "      <td>...</td>\n",
              "      <td>...</td>\n",
              "      <td>...</td>\n",
              "      <td>...</td>\n",
              "    </tr>\n",
              "    <tr>\n",
              "      <th>95</th>\n",
              "      <td>The Rising Hawk</td>\n",
              "      <td>2019</td>\n",
              "      <td>6.2</td>\n",
              "      <td>https://www.imdb.com//title/tt7439064/</td>\n",
              "      <td>96\\n</td>\n",
              "    </tr>\n",
              "    <tr>\n",
              "      <th>96</th>\n",
              "      <td>Bloodshot</td>\n",
              "      <td>2020</td>\n",
              "      <td>5.7</td>\n",
              "      <td>https://www.imdb.com//title/tt1634106/</td>\n",
              "      <td>97\\n</td>\n",
              "    </tr>\n",
              "    <tr>\n",
              "      <th>97</th>\n",
              "      <td>The Room</td>\n",
              "      <td>2003</td>\n",
              "      <td>3.7</td>\n",
              "      <td>https://www.imdb.com//title/tt0368226/</td>\n",
              "      <td>98\\n</td>\n",
              "    </tr>\n",
              "    <tr>\n",
              "      <th>98</th>\n",
              "      <td>Emma.</td>\n",
              "      <td>2020</td>\n",
              "      <td>6.8</td>\n",
              "      <td>https://www.imdb.com//title/tt9214832/</td>\n",
              "      <td>99\\n</td>\n",
              "    </tr>\n",
              "    <tr>\n",
              "      <th>99</th>\n",
              "      <td>Onward</td>\n",
              "      <td>2020</td>\n",
              "      <td>7.5</td>\n",
              "      <td>https://www.imdb.com//title/tt7146812/</td>\n",
              "      <td>100\\n</td>\n",
              "    </tr>\n",
              "  </tbody>\n",
              "</table>\n",
              "<p>100 rows × 5 columns</p>\n",
              "</div>"
            ],
            "text/plain": [
              "                  movie_title  ...              rank\n",
              "0                    365 Days  ...  1\\n(no change)\\n\n",
              "1                 Da 5 Bloods  ...               2\\n\n",
              "2                Artemis Fowl  ...               3\\n\n",
              "3   The King of Staten Island  ...               4\\n\n",
              "4                  Knives Out  ...               5\\n\n",
              "..                        ...  ...               ...\n",
              "95            The Rising Hawk  ...              96\\n\n",
              "96                  Bloodshot  ...              97\\n\n",
              "97                   The Room  ...              98\\n\n",
              "98                      Emma.  ...              99\\n\n",
              "99                     Onward  ...             100\\n\n",
              "\n",
              "[100 rows x 5 columns]"
            ]
          },
          "metadata": {
            "tags": []
          },
          "execution_count": 49
        }
      ]
    },
    {
      "cell_type": "code",
      "metadata": {
        "id": "7_ct2JtZOUAF",
        "colab_type": "code",
        "colab": {
          "base_uri": "https://localhost:8080/",
          "height": 419
        },
        "outputId": "840ea3ca-459d-4fd9-f4f0-b00ee7b8acc4"
      },
      "source": [
        "def booksto_scrape(url):\n",
        "    page=requests.get(url)\n",
        "    response=TextResponse(body=page.text,url=url,encoding=\"utf-8\")\n",
        "\n",
        "    book_title=response.css(\"h3>a::attr(title)\").extract()\n",
        "    book_rating=response.css(\"p[class^='star-rating']::attr(class)\").extract()\n",
        "    p_price = response.css(\"p[class^='price_color']::attr(class)\").extract()\n",
        "    price = [i.replace(\"Â\", \"\") for i in p_price]\n",
        "    instock_or_not  =response.css(\"p.price_color ~ p.instock::attr(class)\").extract()\n",
        "    instock = [i.replace(\"availability\", \" \") for i in instock_or_not]\n",
        "    base_url = \"http://books.toscrape.com/catalogue/\"\n",
        "    book_page_URL = response.css(\"h3 >a::attr(href)\").extract()\n",
        "    book_page_URL2 = [base_url + i for i in book_page_URL ]\n",
        "    book_picture_URL = response.css(\"img::attr(src)\").extract()\n",
        "    book_picture_URL2 = [base_url + i for i in book_picture_URL] \n",
        "    rating = []\n",
        "    for i in book_rating:\n",
        "      rating.append(i.replace(\"star-rating\", \"\"))\n",
        "    return pd.DataFrame({\"book_title\":book_title, \"rating\":rating, \"price\":price,\"instock\":instock, \"book_page_URL2\":book_page_URL2, \"book_picture_URL2\":book_picture_URL2})  \n",
        "bookslist = []\n",
        "for i in range(1,11561000):\n",
        "    current_page =booksto_scrape(url = f\"http://books.toscrape.com/catalogue/page-{i}.html\")\n",
        "    if current_page.shape[0] == 0:\n",
        "        break\n",
        "    else:\n",
        "        bookslist.append(current_page)\n",
        "bookslist = pd.concat(bookslist)\n",
        "bookslist\n"
      ],
      "execution_count": 52,
      "outputs": [
        {
          "output_type": "execute_result",
          "data": {
            "text/html": [
              "<div>\n",
              "<style scoped>\n",
              "    .dataframe tbody tr th:only-of-type {\n",
              "        vertical-align: middle;\n",
              "    }\n",
              "\n",
              "    .dataframe tbody tr th {\n",
              "        vertical-align: top;\n",
              "    }\n",
              "\n",
              "    .dataframe thead th {\n",
              "        text-align: right;\n",
              "    }\n",
              "</style>\n",
              "<table border=\"1\" class=\"dataframe\">\n",
              "  <thead>\n",
              "    <tr style=\"text-align: right;\">\n",
              "      <th></th>\n",
              "      <th>book_title</th>\n",
              "      <th>rating</th>\n",
              "      <th>price</th>\n",
              "      <th>instock</th>\n",
              "      <th>book_page_URL2</th>\n",
              "      <th>book_picture_URL2</th>\n",
              "    </tr>\n",
              "  </thead>\n",
              "  <tbody>\n",
              "    <tr>\n",
              "      <th>0</th>\n",
              "      <td>A Light in the Attic</td>\n",
              "      <td>Three</td>\n",
              "      <td>price_color</td>\n",
              "      <td>instock</td>\n",
              "      <td>http://books.toscrape.com/catalogue/a-light-in...</td>\n",
              "      <td>http://books.toscrape.com/catalogue/../media/c...</td>\n",
              "    </tr>\n",
              "    <tr>\n",
              "      <th>1</th>\n",
              "      <td>Tipping the Velvet</td>\n",
              "      <td>One</td>\n",
              "      <td>price_color</td>\n",
              "      <td>instock</td>\n",
              "      <td>http://books.toscrape.com/catalogue/tipping-th...</td>\n",
              "      <td>http://books.toscrape.com/catalogue/../media/c...</td>\n",
              "    </tr>\n",
              "    <tr>\n",
              "      <th>2</th>\n",
              "      <td>Soumission</td>\n",
              "      <td>One</td>\n",
              "      <td>price_color</td>\n",
              "      <td>instock</td>\n",
              "      <td>http://books.toscrape.com/catalogue/soumission...</td>\n",
              "      <td>http://books.toscrape.com/catalogue/../media/c...</td>\n",
              "    </tr>\n",
              "    <tr>\n",
              "      <th>3</th>\n",
              "      <td>Sharp Objects</td>\n",
              "      <td>Four</td>\n",
              "      <td>price_color</td>\n",
              "      <td>instock</td>\n",
              "      <td>http://books.toscrape.com/catalogue/sharp-obje...</td>\n",
              "      <td>http://books.toscrape.com/catalogue/../media/c...</td>\n",
              "    </tr>\n",
              "    <tr>\n",
              "      <th>4</th>\n",
              "      <td>Sapiens: A Brief History of Humankind</td>\n",
              "      <td>Five</td>\n",
              "      <td>price_color</td>\n",
              "      <td>instock</td>\n",
              "      <td>http://books.toscrape.com/catalogue/sapiens-a-...</td>\n",
              "      <td>http://books.toscrape.com/catalogue/../media/c...</td>\n",
              "    </tr>\n",
              "    <tr>\n",
              "      <th>...</th>\n",
              "      <td>...</td>\n",
              "      <td>...</td>\n",
              "      <td>...</td>\n",
              "      <td>...</td>\n",
              "      <td>...</td>\n",
              "      <td>...</td>\n",
              "    </tr>\n",
              "    <tr>\n",
              "      <th>15</th>\n",
              "      <td>Alice in Wonderland (Alice's Adventures in Won...</td>\n",
              "      <td>One</td>\n",
              "      <td>price_color</td>\n",
              "      <td>instock</td>\n",
              "      <td>http://books.toscrape.com/catalogue/alice-in-w...</td>\n",
              "      <td>http://books.toscrape.com/catalogue/../media/c...</td>\n",
              "    </tr>\n",
              "    <tr>\n",
              "      <th>16</th>\n",
              "      <td>Ajin: Demi-Human, Volume 1 (Ajin: Demi-Human #1)</td>\n",
              "      <td>Four</td>\n",
              "      <td>price_color</td>\n",
              "      <td>instock</td>\n",
              "      <td>http://books.toscrape.com/catalogue/ajin-demi-...</td>\n",
              "      <td>http://books.toscrape.com/catalogue/../media/c...</td>\n",
              "    </tr>\n",
              "    <tr>\n",
              "      <th>17</th>\n",
              "      <td>A Spy's Devotion (The Regency Spies of London #1)</td>\n",
              "      <td>Five</td>\n",
              "      <td>price_color</td>\n",
              "      <td>instock</td>\n",
              "      <td>http://books.toscrape.com/catalogue/a-spys-dev...</td>\n",
              "      <td>http://books.toscrape.com/catalogue/../media/c...</td>\n",
              "    </tr>\n",
              "    <tr>\n",
              "      <th>18</th>\n",
              "      <td>1st to Die (Women's Murder Club #1)</td>\n",
              "      <td>One</td>\n",
              "      <td>price_color</td>\n",
              "      <td>instock</td>\n",
              "      <td>http://books.toscrape.com/catalogue/1st-to-die...</td>\n",
              "      <td>http://books.toscrape.com/catalogue/../media/c...</td>\n",
              "    </tr>\n",
              "    <tr>\n",
              "      <th>19</th>\n",
              "      <td>1,000 Places to See Before You Die</td>\n",
              "      <td>Five</td>\n",
              "      <td>price_color</td>\n",
              "      <td>instock</td>\n",
              "      <td>http://books.toscrape.com/catalogue/1000-place...</td>\n",
              "      <td>http://books.toscrape.com/catalogue/../media/c...</td>\n",
              "    </tr>\n",
              "  </tbody>\n",
              "</table>\n",
              "<p>1000 rows × 6 columns</p>\n",
              "</div>"
            ],
            "text/plain": [
              "                                           book_title  ...                                  book_picture_URL2\n",
              "0                                A Light in the Attic  ...  http://books.toscrape.com/catalogue/../media/c...\n",
              "1                                  Tipping the Velvet  ...  http://books.toscrape.com/catalogue/../media/c...\n",
              "2                                          Soumission  ...  http://books.toscrape.com/catalogue/../media/c...\n",
              "3                                       Sharp Objects  ...  http://books.toscrape.com/catalogue/../media/c...\n",
              "4               Sapiens: A Brief History of Humankind  ...  http://books.toscrape.com/catalogue/../media/c...\n",
              "..                                                ...  ...                                                ...\n",
              "15  Alice in Wonderland (Alice's Adventures in Won...  ...  http://books.toscrape.com/catalogue/../media/c...\n",
              "16   Ajin: Demi-Human, Volume 1 (Ajin: Demi-Human #1)  ...  http://books.toscrape.com/catalogue/../media/c...\n",
              "17  A Spy's Devotion (The Regency Spies of London #1)  ...  http://books.toscrape.com/catalogue/../media/c...\n",
              "18                1st to Die (Women's Murder Club #1)  ...  http://books.toscrape.com/catalogue/../media/c...\n",
              "19                 1,000 Places to See Before You Die  ...  http://books.toscrape.com/catalogue/../media/c...\n",
              "\n",
              "[1000 rows x 6 columns]"
            ]
          },
          "metadata": {
            "tags": []
          },
          "execution_count": 52
        }
      ]
    }
  ]
}